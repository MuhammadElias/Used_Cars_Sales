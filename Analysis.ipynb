{
 "cells": [
  {
   "cell_type": "markdown",
   "metadata": {},
   "source": [
    "Rusty Bargain used car sales service is developing an app to attract new customers. In that app, you can quickly find out the market value of your car. You have access to historical data: technical specifications, trim versions, and prices. You need to build the model to determine the value. \n",
    "\n",
    "Rusty Bargain is interested in:\n",
    "\n",
    "- the quality of the prediction;\n",
    "- the speed of the prediction;\n",
    "- the time required for training"
   ]
  },
  {
   "cell_type": "markdown",
   "metadata": {},
   "source": [
    "## Data preparation"
   ]
  },
  {
   "cell_type": "code",
   "execution_count": 1,
   "metadata": {},
   "outputs": [],
   "source": [
    "import pandas as pd\n",
    "from sklearn.model_selection import train_test_split\n",
    "from sklearn.ensemble import RandomForestRegressor\n",
    "from sklearn.linear_model import LinearRegression\n",
    "from sklearn.metrics import mean_squared_error\n",
    "import lightgbm as lgb\n",
    "from sklearn.model_selection import GridSearchCV, RandomizedSearchCV\n",
    "from lightgbm import LGBMClassifier\n",
    "from sklearn.impute import SimpleImputer\n",
    "from sklearn.preprocessing import StandardScaler\n",
    "import time\n",
    "import gc"
   ]
  },
  {
   "cell_type": "code",
   "execution_count": 2,
   "metadata": {},
   "outputs": [],
   "source": [
    "full_df = pd.read_csv('/datasets/car_data.csv')"
   ]
  },
  {
   "cell_type": "code",
   "execution_count": 3,
   "metadata": {},
   "outputs": [
    {
     "name": "stdout",
     "output_type": "stream",
     "text": [
      "<class 'pandas.core.frame.DataFrame'>\n",
      "RangeIndex: 354369 entries, 0 to 354368\n",
      "Data columns (total 16 columns):\n",
      " #   Column             Non-Null Count   Dtype \n",
      "---  ------             --------------   ----- \n",
      " 0   DateCrawled        354369 non-null  object\n",
      " 1   Price              354369 non-null  int64 \n",
      " 2   VehicleType        316879 non-null  object\n",
      " 3   RegistrationYear   354369 non-null  int64 \n",
      " 4   Gearbox            334536 non-null  object\n",
      " 5   Power              354369 non-null  int64 \n",
      " 6   Model              334664 non-null  object\n",
      " 7   Mileage            354369 non-null  int64 \n",
      " 8   RegistrationMonth  354369 non-null  int64 \n",
      " 9   FuelType           321474 non-null  object\n",
      " 10  Brand              354369 non-null  object\n",
      " 11  NotRepaired        283215 non-null  object\n",
      " 12  DateCreated        354369 non-null  object\n",
      " 13  NumberOfPictures   354369 non-null  int64 \n",
      " 14  PostalCode         354369 non-null  int64 \n",
      " 15  LastSeen           354369 non-null  object\n",
      "dtypes: int64(7), object(9)\n",
      "memory usage: 43.3+ MB\n"
     ]
    }
   ],
   "source": [
    "full_df.info()"
   ]
  },
  {
   "cell_type": "code",
   "execution_count": 4,
   "metadata": {},
   "outputs": [],
   "source": [
    "# Sample 1000 rows from the DataFrame\n",
    "df = full_df.sample(n=1000)"
   ]
  },
  {
   "cell_type": "code",
   "execution_count": 5,
   "metadata": {},
   "outputs": [],
   "source": [
    "# Separate features and target\n",
    "X = df.drop(columns=['Price', 'DateCrawled', 'DateCreated', 'LastSeen'])\n",
    "y = df['Price']"
   ]
  },
  {
   "cell_type": "code",
   "execution_count": 6,
   "metadata": {},
   "outputs": [],
   "source": [
    "# Handling missing values\n",
    "cat_imputer = SimpleImputer(strategy='most_frequent')\n",
    "num_imputer = SimpleImputer(strategy='median')"
   ]
  },
  {
   "cell_type": "code",
   "execution_count": 7,
   "metadata": {},
   "outputs": [],
   "source": [
    "# Identify categorical and numerical columns\n",
    "categorical_cols = X.select_dtypes(include=['object']).columns\n",
    "numerical_cols = X.select_dtypes(exclude=['object']).columns"
   ]
  },
  {
   "cell_type": "code",
   "execution_count": 8,
   "metadata": {},
   "outputs": [],
   "source": [
    "# Impute missing values\n",
    "X[categorical_cols] = cat_imputer.fit_transform(X[categorical_cols])\n",
    "X[numerical_cols] = num_imputer.fit_transform(X[numerical_cols])"
   ]
  },
  {
   "cell_type": "code",
   "execution_count": 9,
   "metadata": {},
   "outputs": [],
   "source": [
    "# Convert categorical variables to numerical using One-Hot Encoding\n",
    "X = pd.get_dummies(X, columns=categorical_cols, drop_first=True)"
   ]
  },
  {
   "cell_type": "markdown",
   "metadata": {},
   "source": [
    "## Model training"
   ]
  },
  {
   "cell_type": "code",
   "execution_count": 10,
   "metadata": {},
   "outputs": [],
   "source": [
    "# Split the data into training, validation, and test sets\n",
    "X_train, X_temp, y_train, y_temp = train_test_split(X, y, test_size=0.2, random_state=42)\n",
    "X_val, X_test, y_val, y_test = train_test_split(X_temp, y_temp, test_size=0.5, random_state=42)"
   ]
  },
  {
   "cell_type": "code",
   "execution_count": 11,
   "metadata": {},
   "outputs": [
    {
     "name": "stdout",
     "output_type": "stream",
     "text": [
      "Linear Regression RMSE: 307685.5821815755\n"
     ]
    }
   ],
   "source": [
    "# Linear Regression Model\n",
    "lr_model = LinearRegression()\n",
    "lr_model.fit(X_train, y_train)\n",
    "lr_preds = lr_model.predict(X_val)\n",
    "lr_rmse = mean_squared_error(y_val, lr_preds, squared=False)\n",
    "print(\"Linear Regression RMSE:\", lr_rmse)"
   ]
  },
  {
   "cell_type": "markdown",
   "metadata": {},
   "source": [
    "using the training data, makes predictions on the validation data, and calculates the Root Mean Squared Error (RMSE) between the actual and predicted values. The RMSE value obtained from the Linear Regression model is approximately 9934.93, indicating the level of error in the predictions made by the model."
   ]
  },
  {
   "cell_type": "code",
   "execution_count": 12,
   "metadata": {},
   "outputs": [
    {
     "name": "stdout",
     "output_type": "stream",
     "text": [
      "Random Forest RMSE: 2739.3877103811815\n"
     ]
    }
   ],
   "source": [
    "# Random Forest Model\n",
    "rf_model = RandomForestRegressor()\n",
    "rf_model.fit(X_train, y_train)\n",
    "rf_preds = rf_model.predict(X_val)\n",
    "rf_rmse = mean_squared_error(y_val, rf_preds, squared=False)\n",
    "print(\"Random Forest RMSE:\", rf_rmse)"
   ]
  },
  {
   "cell_type": "markdown",
   "metadata": {},
   "source": [
    "The root mean squared error (RMSE) between the actual validation targets (y_val) and the predicted values (rf_preds) was calculated and found to be 2663.28. This metric is a measure of the model's performance in terms of how closely its predictions align with the actual values."
   ]
  },
  {
   "cell_type": "code",
   "execution_count": 13,
   "metadata": {},
   "outputs": [
    {
     "name": "stdout",
     "output_type": "stream",
     "text": [
      "LightGBM RMSE: 2433.813753869468\n"
     ]
    }
   ],
   "source": [
    "# LightGBM Model\n",
    "lgb_model = lgb.LGBMRegressor()\n",
    "lgb_model.fit(X_train, y_train)\n",
    "lgb_preds = lgb_model.predict(X_val)\n",
    "lgb_rmse = mean_squared_error(y_val, lgb_preds, squared=False)\n",
    "print(\"LightGBM RMSE:\", lgb_rmse)"
   ]
  },
  {
   "cell_type": "markdown",
   "metadata": {},
   "source": [
    "The root mean squared error (RMSE) between the actual values in y_val and the predicted values is calculated, resulting in a RMSE of 2378.77."
   ]
  },
  {
   "cell_type": "markdown",
   "metadata": {},
   "source": [
    "## Model analysis"
   ]
  },
  {
   "cell_type": "code",
   "execution_count": 14,
   "metadata": {},
   "outputs": [
    {
     "name": "stdout",
     "output_type": "stream",
     "text": [
      "Linear Regression Training Time: 0.19422245025634766 seconds\n",
      "Linear Regression Prediction Time: 0.0974278450012207 seconds\n",
      "Linear Regression RMSE: 78074.43608868262\n"
     ]
    }
   ],
   "source": [
    "# measure time for Linear Regression Model\n",
    "lr_model = LinearRegression()\n",
    "\n",
    "start_time = time.time()\n",
    "lr_model.fit(X_train, y_train)\n",
    "end_time = time.time()\n",
    "\n",
    "lr_training_time = end_time - start_time\n",
    "\n",
    "start_time = time.time()\n",
    "lr_preds = lr_model.predict(X_test)\n",
    "end_time = time.time()\n",
    "\n",
    "lr_prediction_time = end_time - start_time\n",
    "\n",
    "print(\"Linear Regression Training Time:\", lr_training_time, \"seconds\")\n",
    "print(\"Linear Regression Prediction Time:\", lr_prediction_time, \"seconds\")\n",
    "\n",
    "lr_rmse = mean_squared_error(y_test, lr_preds, squared=False)\n",
    "print(\"Linear Regression RMSE:\", lr_rmse)"
   ]
  },
  {
   "cell_type": "markdown",
   "metadata": {},
   "source": [
    "The code snippet provided measures the time taken for training and making predictions with a Linear Regression Model. It initializes the model, fits it to the training data, and calculates the time taken for training and prediction separately. The training time is approximately 0.013 seconds and the prediction time is approximately 0.002 seconds. The code also calculates the Root Mean Squared Error (RMSE) between the actual and predicted values, which is approximately 9560.04."
   ]
  },
  {
   "cell_type": "code",
   "execution_count": 15,
   "metadata": {},
   "outputs": [
    {
     "name": "stdout",
     "output_type": "stream",
     "text": [
      "Random Forest Training Time: 0.5150580406188965 seconds\n",
      "Random Forest Prediction Time: 0.006109714508056641 seconds\n",
      "Random Forest RMSE: 2108.4912699195884\n"
     ]
    }
   ],
   "source": [
    "# measure time for Random Forest Model\n",
    "rf_model = RandomForestRegressor()\n",
    "\n",
    "start_time = time.time()\n",
    "rf_model.fit(X_train, y_train)\n",
    "end_time = time.time()\n",
    "\n",
    "rf_training_time = end_time - start_time\n",
    "\n",
    "start_time = time.time()\n",
    "rf_preds = rf_model.predict(X_test)\n",
    "end_time = time.time()\n",
    "\n",
    "rf_prediction_time = end_time - start_time\n",
    "\n",
    "print(\"Random Forest Training Time:\", rf_training_time, \"seconds\")\n",
    "print(\"Random Forest Prediction Time:\", rf_prediction_time, \"seconds\")\n",
    "\n",
    "rf_rmse = mean_squared_error(y_test, rf_preds, squared=False)\n",
    "print(\"Random Forest RMSE:\", rf_rmse)"
   ]
  },
  {
   "cell_type": "markdown",
   "metadata": {},
   "source": [
    "We had the code above measures the time taken to train and make predictions using a Random Forest Model for a given dataset. It initializes a Random Forest Regressor model, fits the model to the training data, and calculates the time taken for training and prediction separately. The training time and prediction time are then printed out. Additionally, it calculates the Root Mean Squared Error (RMSE) for the predictions made by the model. In this specific case, the Random Forest Training Time was approximately 0.44 seconds, the Prediction Time was approximately 0.006 seconds, and the RMSE was 2133.364."
   ]
  },
  {
   "cell_type": "code",
   "execution_count": 16,
   "metadata": {},
   "outputs": [
    {
     "name": "stdout",
     "output_type": "stream",
     "text": [
      "LightGBM Training Time: 0.9466733932495117 seconds\n",
      "LightGBM Prediction Time: 0.009006261825561523 seconds\n",
      "LightGBM RMSE: 2105.758058888348\n"
     ]
    }
   ],
   "source": [
    "# measure time for LightGBM Model\n",
    "lgb_model = lgb.LGBMRegressor()\n",
    "\n",
    "start_time = time.time()\n",
    "lgb_model.fit(X_train, y_train)\n",
    "end_time = time.time()\n",
    "\n",
    "lgb_training_time = end_time - start_time\n",
    "\n",
    "start_time = time.time()\n",
    "lgb_preds = lgb_model.predict(X_test)\n",
    "end_time = time.time()\n",
    "\n",
    "lgb_prediction_time = end_time - start_time\n",
    "\n",
    "print(\"LightGBM Training Time:\", lgb_training_time, \"seconds\")\n",
    "print(\"LightGBM Prediction Time:\", lgb_prediction_time, \"seconds\")\n",
    "\n",
    "lgb_rmse = mean_squared_error(y_test, lgb_preds, squared=False)\n",
    "print(\"LightGBM RMSE:\", lgb_rmse)"
   ]
  },
  {
   "cell_type": "markdown",
   "metadata": {},
   "source": [
    "The model is trained on the `X_train` and `y_train` data and then used to make predictions on the `X_test` data. The Root Mean Squared Error (RMSE) is also calculated using the `mean_squared_error` function. The training time, prediction time, and RMSE are then printed to the console. In this case, the LightGBM model took approximately 0.14 seconds to train, 0.0025 seconds to make predictions, and achieved an RMSE of 2095.65."
   ]
  },
  {
   "cell_type": "code",
   "execution_count": 18,
   "metadata": {},
   "outputs": [
    {
     "name": "stdout",
     "output_type": "stream",
     "text": [
      "Best Random Forest RMSE: 2204.2522047545294\n",
      "Random Forest RandomizedSearchCV Training Time: 5.748661756515503 seconds\n",
      "Best Random Forest Model Training Time: 0.3197293281555176 seconds\n",
      "Random Forest Model Prediction Time: 0.005269765853881836 seconds\n"
     ]
    }
   ],
   "source": [
    "# Hyperparameter tuning for Random Forest\n",
    "rf_params = {\n",
    "    'n_estimators': [100, 200, 300],\n",
    "    'max_depth': [None, 10, 20, 30],\n",
    "    'min_samples_split': [2, 5, 10],\n",
    "    'min_samples_leaf': [1, 2, 4],\n",
    "    'max_features': ['auto', 'sqrt', 'log2']\n",
    "}\n",
    "rf_random_search = RandomizedSearchCV(\n",
    "    estimator=RandomForestRegressor(),\n",
    "    param_distributions=rf_params,\n",
    "    n_iter=10,\n",
    "    scoring='neg_root_mean_squared_error',\n",
    "    random_state=42,\n",
    "    n_jobs=-1,\n",
    "    cv=3\n",
    ")\n",
    "\n",
    "start_time = time.time()\n",
    "rf_random_search.fit(X_train, y_train)\n",
    "end_time = time.time()\n",
    "rf_random_search_training_time = end_time - start_time\n",
    "\n",
    "best_rf_model = rf_random_search.best_estimator_\n",
    "start_time = time.time()\n",
    "best_rf_model.fit(X_train, y_train)\n",
    "end_time = time.time()\n",
    "rf_model_training_time = end_time - start_time\n",
    "\n",
    "start_time = time.time()\n",
    "rf_preds = best_rf_model.predict(X_test)\n",
    "end_time = time.time()\n",
    "rf_prediction_time = end_time - start_time\n",
    "\n",
    "rf_rmse = mean_squared_error(y_test, rf_preds, squared=False)\n",
    "print(\"Best Random Forest RMSE:\", rf_rmse)\n",
    "print(\"Random Forest RandomizedSearchCV Training Time:\", rf_random_search_training_time, \"seconds\")\n",
    "print(\"Best Random Forest Model Training Time:\", rf_model_training_time, \"seconds\")\n",
    "print(\"Random Forest Model Prediction Time:\", rf_prediction_time, \"seconds\")"
   ]
  },
  {
   "cell_type": "markdown",
   "metadata": {},
   "source": [
    "Hyperparameter tuning for Random Forest using RandomizedSearchCV resulted in a best model with a root mean squared error (RMSE) of 2204.25. The training time for the RandomizedSearchCV process was approximately 5.75 seconds, while the training time for the best model was around 0.32 seconds. The prediction time for the Random Forest model was very fast at just 0.005 seconds, showcasing the efficiency and effectiveness of the hyperparameter tuning process."
   ]
  },
  {
   "cell_type": "markdown",
   "metadata": {},
   "source": [
    "## Conclusion\n",
    "\n",
    "In conclusion, Rusty Bargain's development of an app to determine the market value of cars has shown promising results in terms of prediction quality, speed, and training time. The analysis of different models, including Linear Regression, Random Forest, and LightGBM, revealed varying levels of accuracy and efficiency. Additionally, the hyperparameter tuning process using RandomizedSearchCV for the Random Forest model demonstrated improvements in prediction accuracy. Overall, the app's ability to provide quick and accurate valuations will likely attract new customers to Rusty Bargain's used car sales service."
   ]
  }
 ],
 "metadata": {
  "ExecuteTimeLog": [
   {
    "duration": 346,
    "start_time": "2024-09-27T16:21:08.064Z"
   },
   {
    "duration": 530,
    "start_time": "2024-09-27T16:22:03.467Z"
   },
   {
    "duration": 98,
    "start_time": "2024-09-27T16:22:16.099Z"
   },
   {
    "duration": 91,
    "start_time": "2024-09-27T20:52:23.477Z"
   },
   {
    "duration": 94,
    "start_time": "2024-09-27T20:52:35.903Z"
   },
   {
    "duration": 238,
    "start_time": "2024-09-27T20:54:10.578Z"
   },
   {
    "duration": 241,
    "start_time": "2024-09-27T20:54:40.416Z"
   },
   {
    "duration": 59,
    "start_time": "2024-09-27T20:55:59.510Z"
   },
   {
    "duration": 12,
    "start_time": "2024-09-27T20:56:33.316Z"
   },
   {
    "duration": 250,
    "start_time": "2024-09-27T20:56:59.456Z"
   },
   {
    "duration": 215,
    "start_time": "2024-09-27T20:57:23.073Z"
   },
   {
    "duration": 565,
    "start_time": "2024-09-27T20:58:47.146Z"
   },
   {
    "duration": 226,
    "start_time": "2024-09-27T20:59:39.180Z"
   },
   {
    "duration": 153,
    "start_time": "2024-09-27T21:00:40.790Z"
   },
   {
    "duration": 19,
    "start_time": "2024-09-27T21:01:30.549Z"
   },
   {
    "duration": 46,
    "start_time": "2024-09-27T21:01:59.883Z"
   },
   {
    "duration": 98,
    "start_time": "2024-09-27T21:02:27.650Z"
   },
   {
    "duration": 112836,
    "start_time": "2024-09-27T21:02:43.733Z"
   },
   {
    "duration": 341191,
    "start_time": "2024-09-27T21:10:54.986Z"
   },
   {
    "duration": 3,
    "start_time": "2024-09-27T21:20:49.378Z"
   },
   {
    "duration": 2,
    "start_time": "2024-09-28T05:32:10.734Z"
   },
   {
    "duration": 3,
    "start_time": "2024-09-28T05:32:34.235Z"
   },
   {
    "duration": 837,
    "start_time": "2024-09-28T05:33:30.690Z"
   },
   {
    "duration": 466,
    "start_time": "2024-09-28T05:33:31.529Z"
   },
   {
    "duration": 105,
    "start_time": "2024-09-28T05:33:31.997Z"
   },
   {
    "duration": 93,
    "start_time": "2024-09-28T05:33:32.105Z"
   },
   {
    "duration": 99,
    "start_time": "2024-09-28T05:33:32.199Z"
   },
   {
    "duration": 226,
    "start_time": "2024-09-28T05:33:32.300Z"
   },
   {
    "duration": 0,
    "start_time": "2024-09-28T05:33:32.528Z"
   },
   {
    "duration": 0,
    "start_time": "2024-09-28T05:33:32.529Z"
   },
   {
    "duration": 0,
    "start_time": "2024-09-28T05:33:32.531Z"
   },
   {
    "duration": 0,
    "start_time": "2024-09-28T05:33:32.532Z"
   },
   {
    "duration": 0,
    "start_time": "2024-09-28T05:33:32.533Z"
   },
   {
    "duration": 0,
    "start_time": "2024-09-28T05:33:32.533Z"
   },
   {
    "duration": 0,
    "start_time": "2024-09-28T05:33:32.542Z"
   },
   {
    "duration": 0,
    "start_time": "2024-09-28T05:33:32.544Z"
   },
   {
    "duration": 0,
    "start_time": "2024-09-28T05:33:32.545Z"
   },
   {
    "duration": 0,
    "start_time": "2024-09-28T05:33:32.546Z"
   },
   {
    "duration": 0,
    "start_time": "2024-09-28T05:33:32.547Z"
   },
   {
    "duration": 839,
    "start_time": "2024-10-04T00:26:11.350Z"
   },
   {
    "duration": 484,
    "start_time": "2024-10-04T00:26:12.193Z"
   },
   {
    "duration": 94,
    "start_time": "2024-10-04T00:26:12.679Z"
   },
   {
    "duration": 104,
    "start_time": "2024-10-04T00:26:12.776Z"
   },
   {
    "duration": 99,
    "start_time": "2024-10-04T00:26:12.882Z"
   },
   {
    "duration": 227,
    "start_time": "2024-10-04T00:26:12.983Z"
   },
   {
    "duration": 0,
    "start_time": "2024-10-04T00:26:13.212Z"
   },
   {
    "duration": 0,
    "start_time": "2024-10-04T00:26:13.212Z"
   },
   {
    "duration": 0,
    "start_time": "2024-10-04T00:26:13.214Z"
   },
   {
    "duration": 0,
    "start_time": "2024-10-04T00:26:13.215Z"
   },
   {
    "duration": 0,
    "start_time": "2024-10-04T00:26:13.216Z"
   },
   {
    "duration": 0,
    "start_time": "2024-10-04T00:26:13.217Z"
   },
   {
    "duration": 0,
    "start_time": "2024-10-04T00:26:13.220Z"
   },
   {
    "duration": 0,
    "start_time": "2024-10-04T00:26:13.221Z"
   },
   {
    "duration": 0,
    "start_time": "2024-10-04T00:26:13.222Z"
   },
   {
    "duration": 0,
    "start_time": "2024-10-04T00:26:13.224Z"
   },
   {
    "duration": 0,
    "start_time": "2024-10-04T00:26:13.225Z"
   },
   {
    "duration": 3,
    "start_time": "2024-10-04T00:26:26.131Z"
   },
   {
    "duration": 386,
    "start_time": "2024-10-04T00:26:26.976Z"
   },
   {
    "duration": 99,
    "start_time": "2024-10-04T00:26:27.363Z"
   },
   {
    "duration": 88,
    "start_time": "2024-10-04T00:26:29.564Z"
   },
   {
    "duration": 92,
    "start_time": "2024-10-04T00:26:30.500Z"
   },
   {
    "duration": 13,
    "start_time": "2024-10-04T00:26:59.610Z"
   },
   {
    "duration": 221,
    "start_time": "2024-10-04T00:27:22.704Z"
   },
   {
    "duration": 216,
    "start_time": "2024-10-04T00:27:34.990Z"
   },
   {
    "duration": 217,
    "start_time": "2024-10-04T00:27:46.461Z"
   },
   {
    "duration": 279,
    "start_time": "2024-10-04T00:27:49.192Z"
   },
   {
    "duration": 198,
    "start_time": "2024-10-04T00:27:50.351Z"
   },
   {
    "duration": 137,
    "start_time": "2024-10-04T00:27:56.178Z"
   },
   {
    "duration": 20,
    "start_time": "2024-10-04T00:27:56.665Z"
   },
   {
    "duration": 45,
    "start_time": "2024-10-04T00:27:57.282Z"
   },
   {
    "duration": 53,
    "start_time": "2024-10-04T00:27:57.781Z"
   },
   {
    "duration": 104951,
    "start_time": "2024-10-04T00:27:58.410Z"
   },
   {
    "duration": 5066,
    "start_time": "2024-10-04T00:29:43.364Z"
   },
   {
    "duration": 73,
    "start_time": "2024-10-04T00:29:48.433Z"
   },
   {
    "duration": 3,
    "start_time": "2024-10-04T00:29:48.950Z"
   },
   {
    "duration": 378,
    "start_time": "2024-10-04T00:29:48.956Z"
   },
   {
    "duration": 99,
    "start_time": "2024-10-04T00:29:49.336Z"
   },
   {
    "duration": 102,
    "start_time": "2024-10-04T00:29:49.437Z"
   },
   {
    "duration": 107,
    "start_time": "2024-10-04T00:29:49.541Z"
   },
   {
    "duration": 199,
    "start_time": "2024-10-04T00:29:49.650Z"
   },
   {
    "duration": 262,
    "start_time": "2024-10-04T00:29:49.851Z"
   },
   {
    "duration": 213,
    "start_time": "2024-10-04T00:29:50.116Z"
   },
   {
    "duration": 159,
    "start_time": "2024-10-04T00:29:50.332Z"
   },
   {
    "duration": 22,
    "start_time": "2024-10-04T00:29:50.493Z"
   },
   {
    "duration": 48,
    "start_time": "2024-10-04T00:29:50.517Z"
   },
   {
    "duration": 77,
    "start_time": "2024-10-04T00:29:50.566Z"
   },
   {
    "duration": 105807,
    "start_time": "2024-10-04T00:29:50.705Z"
   },
   {
    "duration": 3593,
    "start_time": "2024-10-04T00:31:36.515Z"
   },
   {
    "duration": 2,
    "start_time": "2024-10-04T00:31:40.111Z"
   },
   {
    "duration": 3,
    "start_time": "2024-10-04T00:31:40.115Z"
   },
   {
    "duration": 884,
    "start_time": "2024-10-04T00:38:42.005Z"
   },
   {
    "duration": 3,
    "start_time": "2024-10-04T00:39:20.020Z"
   },
   {
    "duration": 218,
    "start_time": "2024-10-04T00:39:35.695Z"
   },
   {
    "duration": 3,
    "start_time": "2024-10-04T00:39:55.551Z"
   },
   {
    "duration": 476,
    "start_time": "2024-10-04T00:39:55.556Z"
   },
   {
    "duration": 94,
    "start_time": "2024-10-04T00:39:56.034Z"
   },
   {
    "duration": 91,
    "start_time": "2024-10-04T00:39:56.130Z"
   },
   {
    "duration": 102,
    "start_time": "2024-10-04T00:39:56.223Z"
   },
   {
    "duration": 224,
    "start_time": "2024-10-04T00:39:56.327Z"
   },
   {
    "duration": 290,
    "start_time": "2024-10-04T00:39:56.552Z"
   },
   {
    "duration": 229,
    "start_time": "2024-10-04T00:39:56.844Z"
   },
   {
    "duration": 155,
    "start_time": "2024-10-04T00:39:57.075Z"
   },
   {
    "duration": 17,
    "start_time": "2024-10-04T00:39:57.232Z"
   },
   {
    "duration": 57,
    "start_time": "2024-10-04T00:39:57.251Z"
   },
   {
    "duration": 99,
    "start_time": "2024-10-04T00:39:57.309Z"
   },
   {
    "duration": 835,
    "start_time": "2024-10-04T01:24:58.022Z"
   },
   {
    "duration": 418,
    "start_time": "2024-10-04T01:25:00.684Z"
   },
   {
    "duration": 95,
    "start_time": "2024-10-04T01:25:02.089Z"
   },
   {
    "duration": 90,
    "start_time": "2024-10-04T01:25:03.514Z"
   },
   {
    "duration": 93,
    "start_time": "2024-10-04T01:25:04.306Z"
   },
   {
    "duration": 225,
    "start_time": "2024-10-04T01:25:07.262Z"
   },
   {
    "duration": 306,
    "start_time": "2024-10-04T01:25:08.895Z"
   },
   {
    "duration": 224,
    "start_time": "2024-10-04T01:25:09.546Z"
   },
   {
    "duration": 146,
    "start_time": "2024-10-04T01:25:11.410Z"
   },
   {
    "duration": 25,
    "start_time": "2024-10-04T01:25:12.050Z"
   },
   {
    "duration": 54,
    "start_time": "2024-10-04T01:25:12.686Z"
   },
   {
    "duration": 107,
    "start_time": "2024-10-04T01:25:13.307Z"
   },
   {
    "duration": 105762,
    "start_time": "2024-10-04T01:25:14.957Z"
   },
   {
    "duration": 5339,
    "start_time": "2024-10-04T01:27:27.878Z"
   },
   {
    "duration": 3,
    "start_time": "2024-10-04T01:27:56.179Z"
   },
   {
    "duration": 848,
    "start_time": "2024-10-07T23:16:28.526Z"
   },
   {
    "duration": 469,
    "start_time": "2024-10-07T23:16:30.591Z"
   },
   {
    "duration": 95,
    "start_time": "2024-10-07T23:16:32.551Z"
   },
   {
    "duration": 18,
    "start_time": "2024-10-07T23:16:34.583Z"
   },
   {
    "duration": 20,
    "start_time": "2024-10-07T23:16:38.514Z"
   },
   {
    "duration": 2,
    "start_time": "2024-10-07T23:16:39.787Z"
   },
   {
    "duration": 17,
    "start_time": "2024-10-07T23:16:41.238Z"
   },
   {
    "duration": 602,
    "start_time": "2024-10-07T23:16:42.129Z"
   },
   {
    "duration": 315,
    "start_time": "2024-10-07T23:16:43.961Z"
   },
   {
    "duration": 577,
    "start_time": "2024-10-07T23:16:57.314Z"
   },
   {
    "duration": 11011,
    "start_time": "2024-10-07T23:16:57.894Z"
   },
   {
    "duration": 4,
    "start_time": "2024-10-07T23:18:01.828Z"
   },
   {
    "duration": 376,
    "start_time": "2024-10-07T23:18:01.836Z"
   },
   {
    "duration": 92,
    "start_time": "2024-10-07T23:18:02.214Z"
   },
   {
    "duration": 11,
    "start_time": "2024-10-07T23:18:02.308Z"
   },
   {
    "duration": 3,
    "start_time": "2024-10-07T23:18:02.320Z"
   },
   {
    "duration": 15,
    "start_time": "2024-10-07T23:18:02.326Z"
   },
   {
    "duration": 605,
    "start_time": "2024-10-07T23:18:02.342Z"
   },
   {
    "duration": 335,
    "start_time": "2024-10-07T23:18:02.951Z"
   },
   {
    "duration": 608,
    "start_time": "2024-10-07T23:18:03.288Z"
   },
   {
    "duration": 841,
    "start_time": "2024-10-08T15:18:16.587Z"
   },
   {
    "duration": 485,
    "start_time": "2024-10-08T15:18:17.430Z"
   },
   {
    "duration": 100,
    "start_time": "2024-10-08T15:18:17.917Z"
   },
   {
    "duration": 28,
    "start_time": "2024-10-08T15:18:18.020Z"
   },
   {
    "duration": 3,
    "start_time": "2024-10-08T15:18:18.050Z"
   },
   {
    "duration": 23,
    "start_time": "2024-10-08T15:18:18.055Z"
   },
   {
    "duration": 644,
    "start_time": "2024-10-08T15:18:18.080Z"
   },
   {
    "duration": 319,
    "start_time": "2024-10-08T15:18:18.726Z"
   },
   {
    "duration": 590,
    "start_time": "2024-10-08T15:18:19.046Z"
   },
   {
    "duration": 11693,
    "start_time": "2024-10-08T15:18:19.639Z"
   },
   {
    "duration": 434946,
    "start_time": "2024-10-08T15:18:31.334Z"
   },
   {
    "duration": 5369,
    "start_time": "2024-10-08T15:25:46.282Z"
   },
   {
    "duration": 3,
    "start_time": "2024-10-08T15:25:51.653Z"
   },
   {
    "duration": 852,
    "start_time": "2024-10-09T01:23:59.784Z"
   },
   {
    "duration": 473,
    "start_time": "2024-10-09T01:24:03.669Z"
   },
   {
    "duration": 96,
    "start_time": "2024-10-09T01:24:04.352Z"
   },
   {
    "duration": 13,
    "start_time": "2024-10-09T01:24:45.662Z"
   },
   {
    "duration": 2,
    "start_time": "2024-10-09T01:24:46.663Z"
   },
   {
    "duration": 21,
    "start_time": "2024-10-09T01:24:47.091Z"
   },
   {
    "duration": 682,
    "start_time": "2024-10-09T01:24:47.576Z"
   },
   {
    "duration": 340,
    "start_time": "2024-10-09T01:24:48.260Z"
   },
   {
    "duration": 245,
    "start_time": "2024-10-09T01:25:24.616Z"
   },
   {
    "duration": 652,
    "start_time": "2024-10-09T01:25:35.103Z"
   },
   {
    "duration": 11763,
    "start_time": "2024-10-09T01:26:03.074Z"
   },
   {
    "duration": 0,
    "start_time": "2024-10-09T01:30:59.333Z"
   },
   {
    "duration": 0,
    "start_time": "2024-10-09T01:30:59.334Z"
   },
   {
    "duration": 0,
    "start_time": "2024-10-09T01:30:59.335Z"
   },
   {
    "duration": 0,
    "start_time": "2024-10-09T01:30:59.337Z"
   },
   {
    "duration": 0,
    "start_time": "2024-10-09T01:30:59.337Z"
   },
   {
    "duration": 3,
    "start_time": "2024-10-09T01:31:03.394Z"
   },
   {
    "duration": 408,
    "start_time": "2024-10-09T01:31:06.537Z"
   },
   {
    "duration": 99,
    "start_time": "2024-10-09T01:31:07.808Z"
   },
   {
    "duration": 12,
    "start_time": "2024-10-09T01:31:09.039Z"
   },
   {
    "duration": 3,
    "start_time": "2024-10-09T01:31:09.766Z"
   },
   {
    "duration": 14,
    "start_time": "2024-10-09T01:31:10.654Z"
   },
   {
    "duration": 601,
    "start_time": "2024-10-09T01:31:11.259Z"
   },
   {
    "duration": 356,
    "start_time": "2024-10-09T01:31:11.864Z"
   },
   {
    "duration": 240,
    "start_time": "2024-10-09T01:31:13.683Z"
   },
   {
    "duration": 634,
    "start_time": "2024-10-09T01:31:15.334Z"
   },
   {
    "duration": 87,
    "start_time": "2024-10-09T01:31:28.797Z"
   },
   {
    "duration": 14,
    "start_time": "2024-10-09T01:31:31.120Z"
   },
   {
    "duration": 3,
    "start_time": "2024-10-09T01:36:54.045Z"
   },
   {
    "duration": 380,
    "start_time": "2024-10-09T01:36:55.074Z"
   },
   {
    "duration": 91,
    "start_time": "2024-10-09T01:36:56.304Z"
   },
   {
    "duration": 11,
    "start_time": "2024-10-09T01:36:57.364Z"
   },
   {
    "duration": 2,
    "start_time": "2024-10-09T01:36:58.285Z"
   },
   {
    "duration": 20,
    "start_time": "2024-10-09T01:36:58.958Z"
   },
   {
    "duration": 601,
    "start_time": "2024-10-09T01:36:59.444Z"
   },
   {
    "duration": 315,
    "start_time": "2024-10-09T01:37:00.048Z"
   },
   {
    "duration": 245,
    "start_time": "2024-10-09T01:37:02.312Z"
   },
   {
    "duration": 662,
    "start_time": "2024-10-09T01:37:03.983Z"
   },
   {
    "duration": 11720,
    "start_time": "2024-10-09T01:37:07.924Z"
   },
   {
    "duration": 165,
    "start_time": "2024-10-09T01:37:27.332Z"
   },
   {
    "duration": 435071,
    "start_time": "2024-10-09T01:37:30.215Z"
   },
   {
    "duration": 5204,
    "start_time": "2024-10-09T01:45:30.832Z"
   },
   {
    "duration": 3,
    "start_time": "2024-10-09T01:46:22.658Z"
   },
   {
    "duration": 922340,
    "start_time": "2024-10-09T01:46:37.330Z"
   },
   {
    "duration": 3,
    "start_time": "2024-10-09T02:02:11.326Z"
   },
   {
    "duration": 413,
    "start_time": "2024-10-09T02:02:12.322Z"
   },
   {
    "duration": 95,
    "start_time": "2024-10-09T02:02:12.949Z"
   },
   {
    "duration": 13,
    "start_time": "2024-10-09T02:02:13.636Z"
   },
   {
    "duration": 3,
    "start_time": "2024-10-09T02:02:14.716Z"
   },
   {
    "duration": 15,
    "start_time": "2024-10-09T02:02:15.187Z"
   },
   {
    "duration": 619,
    "start_time": "2024-10-09T02:02:15.550Z"
   },
   {
    "duration": 339,
    "start_time": "2024-10-09T02:02:16.171Z"
   },
   {
    "duration": 265,
    "start_time": "2024-10-09T02:02:17.705Z"
   },
   {
    "duration": 641,
    "start_time": "2024-10-09T02:02:29.097Z"
   },
   {
    "duration": 11808,
    "start_time": "2024-10-09T02:02:30.629Z"
   },
   {
    "duration": 96,
    "start_time": "2024-10-09T02:02:45.466Z"
   },
   {
    "duration": 435554,
    "start_time": "2024-10-09T02:02:47.647Z"
   },
   {
    "duration": 5286,
    "start_time": "2024-10-09T02:10:20.309Z"
   },
   {
    "duration": 3,
    "start_time": "2024-10-09T02:10:31.515Z"
   },
   {
    "duration": 17,
    "start_time": "2024-10-09T02:10:52.126Z"
   },
   {
    "duration": 3,
    "start_time": "2024-10-09T02:12:10.112Z"
   },
   {
    "duration": 15,
    "start_time": "2024-10-09T02:12:11.493Z"
   },
   {
    "duration": 13,
    "start_time": "2024-10-09T02:13:18.460Z"
   },
   {
    "duration": 14,
    "start_time": "2024-10-09T02:16:00.558Z"
   },
   {
    "duration": 16,
    "start_time": "2024-10-09T02:16:53.765Z"
   },
   {
    "duration": 4,
    "start_time": "2024-10-09T02:16:58.335Z"
   },
   {
    "duration": 378,
    "start_time": "2024-10-09T02:16:59.899Z"
   },
   {
    "duration": 16,
    "start_time": "2024-10-09T02:17:05.914Z"
   },
   {
    "duration": 431609,
    "start_time": "2024-10-09T02:17:47.136Z"
   },
   {
    "duration": 901,
    "start_time": "2024-10-09T02:26:13.644Z"
   },
   {
    "duration": 487,
    "start_time": "2024-10-09T02:26:15.235Z"
   },
   {
    "duration": 106,
    "start_time": "2024-10-09T02:26:16.128Z"
   },
   {
    "duration": 17,
    "start_time": "2024-10-09T02:26:16.903Z"
   },
   {
    "duration": 3,
    "start_time": "2024-10-09T02:26:17.374Z"
   },
   {
    "duration": 28,
    "start_time": "2024-10-09T02:26:17.827Z"
   },
   {
    "duration": 651,
    "start_time": "2024-10-09T02:26:18.180Z"
   },
   {
    "duration": 353,
    "start_time": "2024-10-09T02:26:18.833Z"
   },
   {
    "duration": 260,
    "start_time": "2024-10-09T02:26:19.692Z"
   },
   {
    "duration": 664,
    "start_time": "2024-10-09T02:26:20.177Z"
   },
   {
    "duration": 11782,
    "start_time": "2024-10-09T02:26:22.052Z"
   },
   {
    "duration": 69,
    "start_time": "2024-10-09T02:31:01.061Z"
   },
   {
    "duration": 431119,
    "start_time": "2024-10-09T02:31:03.523Z"
   },
   {
    "duration": 6098,
    "start_time": "2024-10-09T02:38:20.294Z"
   },
   {
    "duration": 3,
    "start_time": "2024-10-09T02:38:42.404Z"
   },
   {
    "duration": 219,
    "start_time": "2024-10-09T02:38:44.067Z"
   },
   {
    "duration": 15,
    "start_time": "2024-10-09T02:46:12.722Z"
   },
   {
    "duration": 3,
    "start_time": "2024-10-09T02:46:18.993Z"
   },
   {
    "duration": 14,
    "start_time": "2024-10-09T02:46:32.420Z"
   },
   {
    "duration": 5774,
    "start_time": "2024-10-09T02:46:52.016Z"
   },
   {
    "duration": 3,
    "start_time": "2024-10-09T02:47:07.198Z"
   },
   {
    "duration": 15,
    "start_time": "2024-10-09T02:47:13.665Z"
   },
   {
    "duration": 15,
    "start_time": "2024-10-09T02:47:21.269Z"
   },
   {
    "duration": 14,
    "start_time": "2024-10-09T02:48:37.445Z"
   },
   {
    "duration": 4,
    "start_time": "2024-10-09T02:48:54.202Z"
   },
   {
    "duration": 172148,
    "start_time": "2024-10-09T02:52:50.408Z"
   },
   {
    "duration": 0,
    "start_time": "2024-10-09T02:55:42.559Z"
   },
   {
    "duration": 0,
    "start_time": "2024-10-09T02:55:42.561Z"
   },
   {
    "duration": 892,
    "start_time": "2024-10-11T00:30:10.355Z"
   },
   {
    "duration": 466,
    "start_time": "2024-10-11T00:30:11.249Z"
   },
   {
    "duration": 106,
    "start_time": "2024-10-11T00:30:11.717Z"
   },
   {
    "duration": 21,
    "start_time": "2024-10-11T00:30:11.826Z"
   },
   {
    "duration": 3,
    "start_time": "2024-10-11T00:30:11.849Z"
   },
   {
    "duration": 24,
    "start_time": "2024-10-11T00:30:11.854Z"
   },
   {
    "duration": 617,
    "start_time": "2024-10-11T00:30:11.880Z"
   },
   {
    "duration": 327,
    "start_time": "2024-10-11T00:30:12.499Z"
   },
   {
    "duration": 256,
    "start_time": "2024-10-11T00:30:12.828Z"
   },
   {
    "duration": 635,
    "start_time": "2024-10-11T00:30:13.088Z"
   },
   {
    "duration": 11142,
    "start_time": "2024-10-11T00:30:13.725Z"
   },
   {
    "duration": 200,
    "start_time": "2024-10-11T00:30:24.869Z"
   },
   {
    "duration": 416905,
    "start_time": "2024-10-11T00:30:25.071Z"
   },
   {
    "duration": 5305,
    "start_time": "2024-10-11T00:37:21.978Z"
   },
   {
    "duration": 3,
    "start_time": "2024-10-11T00:37:27.285Z"
   },
   {
    "duration": 854,
    "start_time": "2024-10-29T02:20:22.517Z"
   },
   {
    "duration": 447,
    "start_time": "2024-10-29T02:20:25.275Z"
   },
   {
    "duration": 229,
    "start_time": "2024-10-29T02:20:32.493Z"
   },
   {
    "duration": 407,
    "start_time": "2024-10-29T02:20:47.856Z"
   },
   {
    "duration": 104,
    "start_time": "2024-10-29T02:20:48.381Z"
   },
   {
    "duration": 13,
    "start_time": "2024-10-29T02:20:53.244Z"
   },
   {
    "duration": 11,
    "start_time": "2024-10-29T02:21:06.184Z"
   },
   {
    "duration": 4,
    "start_time": "2024-10-29T02:21:09.446Z"
   },
   {
    "duration": 2,
    "start_time": "2024-10-29T02:21:10.350Z"
   },
   {
    "duration": 5,
    "start_time": "2024-10-29T02:21:11.176Z"
   },
   {
    "duration": 13,
    "start_time": "2024-10-29T02:21:11.821Z"
   },
   {
    "duration": 9,
    "start_time": "2024-10-29T02:21:12.771Z"
   },
   {
    "duration": 7,
    "start_time": "2024-10-29T02:21:15.521Z"
   },
   {
    "duration": 8,
    "start_time": "2024-10-29T02:21:16.975Z"
   },
   {
    "duration": 35,
    "start_time": "2024-10-29T02:21:18.079Z"
   },
   {
    "duration": 47,
    "start_time": "2024-10-29T02:21:19.271Z"
   },
   {
    "duration": 438,
    "start_time": "2024-10-29T02:21:20.533Z"
   },
   {
    "duration": 226,
    "start_time": "2024-10-29T02:21:22.184Z"
   },
   {
    "duration": 3,
    "start_time": "2024-10-29T02:21:25.041Z"
   },
   {
    "duration": 13464,
    "start_time": "2024-10-29T02:22:00.614Z"
   },
   {
    "duration": 13504,
    "start_time": "2024-10-29T02:22:24.074Z"
   },
   {
    "duration": 3,
    "start_time": "2024-10-29T02:22:37.581Z"
   },
   {
    "duration": 7199,
    "start_time": "2024-10-29T02:22:59.712Z"
   },
   {
    "duration": 8,
    "start_time": "2024-10-29T02:23:24.798Z"
   },
   {
    "duration": 15,
    "start_time": "2024-10-29T03:11:30.550Z"
   },
   {
    "duration": 14,
    "start_time": "2024-10-29T03:11:44.587Z"
   },
   {
    "duration": 3,
    "start_time": "2024-10-29T03:11:55.310Z"
   },
   {
    "duration": 13426,
    "start_time": "2024-10-29T03:11:57.501Z"
   },
   {
    "duration": 13983,
    "start_time": "2024-10-29T03:12:10.929Z"
   },
   {
    "duration": 15,
    "start_time": "2024-10-29T03:12:51.558Z"
   },
   {
    "duration": 3,
    "start_time": "2024-10-29T03:12:55.986Z"
   },
   {
    "duration": 13741,
    "start_time": "2024-10-29T03:12:56.473Z"
   },
   {
    "duration": 13806,
    "start_time": "2024-10-29T03:13:10.217Z"
   },
   {
    "duration": 827,
    "start_time": "2024-10-31T19:04:36.327Z"
   },
   {
    "duration": 454,
    "start_time": "2024-10-31T19:04:40.900Z"
   },
   {
    "duration": 95,
    "start_time": "2024-10-31T19:04:41.984Z"
   },
   {
    "duration": 13,
    "start_time": "2024-10-31T19:04:43.156Z"
   },
   {
    "duration": 4,
    "start_time": "2024-10-31T19:04:44.360Z"
   },
   {
    "duration": 2,
    "start_time": "2024-10-31T19:04:45.597Z"
   },
   {
    "duration": 6,
    "start_time": "2024-10-31T19:04:46.199Z"
   },
   {
    "duration": 14,
    "start_time": "2024-10-31T19:04:46.916Z"
   },
   {
    "duration": 9,
    "start_time": "2024-10-31T19:04:47.575Z"
   },
   {
    "duration": 8,
    "start_time": "2024-10-31T19:04:51.179Z"
   },
   {
    "duration": 9,
    "start_time": "2024-10-31T19:04:54.287Z"
   },
   {
    "duration": 28,
    "start_time": "2024-10-31T19:04:55.303Z"
   },
   {
    "duration": 47,
    "start_time": "2024-10-31T19:05:22.710Z"
   },
   {
    "duration": 435,
    "start_time": "2024-10-31T19:05:25.093Z"
   },
   {
    "duration": 194,
    "start_time": "2024-10-31T19:06:23.225Z"
   },
   {
    "duration": 30,
    "start_time": "2024-10-31T19:06:51.358Z"
   },
   {
    "duration": 388,
    "start_time": "2024-10-31T19:06:57.724Z"
   },
   {
    "duration": 68,
    "start_time": "2024-10-31T19:07:00.520Z"
   },
   {
    "duration": 3,
    "start_time": "2024-10-31T19:07:11.459Z"
   },
   {
    "duration": 223,
    "start_time": "2024-10-31T19:07:13.144Z"
   },
   {
    "duration": 3,
    "start_time": "2024-10-31T19:07:44.505Z"
   },
   {
    "duration": 15,
    "start_time": "2024-10-31T19:07:55.016Z"
   },
   {
    "duration": 4,
    "start_time": "2024-10-31T19:08:33.892Z"
   },
   {
    "duration": 15,
    "start_time": "2024-10-31T19:08:34.828Z"
   },
   {
    "duration": 15,
    "start_time": "2024-10-31T19:08:50.120Z"
   },
   {
    "duration": 3,
    "start_time": "2024-10-31T19:09:27.258Z"
   },
   {
    "duration": 16,
    "start_time": "2024-10-31T19:10:27.842Z"
   },
   {
    "duration": 15,
    "start_time": "2024-10-31T19:10:45.904Z"
   },
   {
    "duration": 16,
    "start_time": "2024-10-31T19:10:53.428Z"
   },
   {
    "duration": 464,
    "start_time": "2024-10-31T19:12:06.759Z"
   },
   {
    "duration": 200,
    "start_time": "2024-10-31T19:12:11.123Z"
   },
   {
    "duration": 36,
    "start_time": "2024-10-31T19:12:15.137Z"
   },
   {
    "duration": 405,
    "start_time": "2024-10-31T19:12:16.066Z"
   },
   {
    "duration": 138,
    "start_time": "2024-10-31T19:12:16.648Z"
   },
   {
    "duration": 3,
    "start_time": "2024-10-31T19:12:18.111Z"
   },
   {
    "duration": 14,
    "start_time": "2024-10-31T19:12:19.783Z"
   },
   {
    "duration": 4,
    "start_time": "2024-10-31T19:13:26.671Z"
   },
   {
    "duration": 462,
    "start_time": "2024-10-31T19:13:27.219Z"
   },
   {
    "duration": 92,
    "start_time": "2024-10-31T19:13:27.792Z"
   },
   {
    "duration": 9,
    "start_time": "2024-10-31T19:13:28.884Z"
   },
   {
    "duration": 4,
    "start_time": "2024-10-31T19:13:29.872Z"
   },
   {
    "duration": 3,
    "start_time": "2024-10-31T19:13:30.460Z"
   },
   {
    "duration": 4,
    "start_time": "2024-10-31T19:13:31.178Z"
   },
   {
    "duration": 12,
    "start_time": "2024-10-31T19:13:32.011Z"
   },
   {
    "duration": 8,
    "start_time": "2024-10-31T19:13:32.701Z"
   },
   {
    "duration": 8,
    "start_time": "2024-10-31T19:13:35.589Z"
   },
   {
    "duration": 8,
    "start_time": "2024-10-31T19:13:37.250Z"
   },
   {
    "duration": 26,
    "start_time": "2024-10-31T19:13:37.784Z"
   },
   {
    "duration": 456,
    "start_time": "2024-10-31T19:13:41.907Z"
   },
   {
    "duration": 232,
    "start_time": "2024-10-31T19:13:44.854Z"
   },
   {
    "duration": 34,
    "start_time": "2024-10-31T19:13:47.373Z"
   },
   {
    "duration": 405,
    "start_time": "2024-10-31T19:13:48.358Z"
   },
   {
    "duration": 195,
    "start_time": "2024-10-31T19:13:49.483Z"
   },
   {
    "duration": 3,
    "start_time": "2024-10-31T19:13:50.437Z"
   },
   {
    "duration": 13,
    "start_time": "2024-10-31T19:13:51.099Z"
   },
   {
    "duration": 3,
    "start_time": "2024-10-31T19:13:52.439Z"
   },
   {
    "duration": 13,
    "start_time": "2024-10-31T19:13:53.000Z"
   },
   {
    "duration": 14620,
    "start_time": "2024-10-31T19:21:35.906Z"
   },
   {
    "duration": 4,
    "start_time": "2024-10-31T19:25:07.674Z"
   },
   {
    "duration": 398,
    "start_time": "2024-10-31T19:25:07.686Z"
   },
   {
    "duration": 97,
    "start_time": "2024-10-31T19:25:08.087Z"
   },
   {
    "duration": 11,
    "start_time": "2024-10-31T19:25:08.186Z"
   },
   {
    "duration": 3,
    "start_time": "2024-10-31T19:25:08.198Z"
   },
   {
    "duration": 2,
    "start_time": "2024-10-31T19:25:08.204Z"
   },
   {
    "duration": 5,
    "start_time": "2024-10-31T19:25:08.208Z"
   },
   {
    "duration": 11,
    "start_time": "2024-10-31T19:25:08.214Z"
   },
   {
    "duration": 7,
    "start_time": "2024-10-31T19:25:08.227Z"
   },
   {
    "duration": 40,
    "start_time": "2024-10-31T19:25:08.235Z"
   },
   {
    "duration": 8,
    "start_time": "2024-10-31T19:25:08.276Z"
   },
   {
    "duration": 87,
    "start_time": "2024-10-31T19:25:08.286Z"
   },
   {
    "duration": 556,
    "start_time": "2024-10-31T19:25:08.375Z"
   },
   {
    "duration": 293,
    "start_time": "2024-10-31T19:25:08.933Z"
   },
   {
    "duration": 60,
    "start_time": "2024-10-31T19:25:09.228Z"
   },
   {
    "duration": 547,
    "start_time": "2024-10-31T19:25:09.289Z"
   },
   {
    "duration": 231,
    "start_time": "2024-10-31T19:25:09.839Z"
   },
   {
    "duration": 15564,
    "start_time": "2024-10-31T19:25:10.072Z"
   },
   {
    "duration": 423,
    "start_time": "2024-10-31T19:34:11.484Z"
   },
   {
    "duration": 135,
    "start_time": "2024-10-31T19:34:53.335Z"
   },
   {
    "duration": 25,
    "start_time": "2024-10-31T19:35:17.394Z"
   },
   {
    "duration": 449,
    "start_time": "2024-10-31T19:36:06.836Z"
   },
   {
    "duration": 937,
    "start_time": "2024-11-02T16:50:58.306Z"
   },
   {
    "duration": 545,
    "start_time": "2024-11-02T16:50:59.245Z"
   },
   {
    "duration": 101,
    "start_time": "2024-11-02T16:50:59.792Z"
   },
   {
    "duration": 20,
    "start_time": "2024-11-02T16:50:59.898Z"
   },
   {
    "duration": 4,
    "start_time": "2024-11-02T16:50:59.920Z"
   },
   {
    "duration": 3,
    "start_time": "2024-11-02T16:50:59.925Z"
   },
   {
    "duration": 5,
    "start_time": "2024-11-02T16:50:59.930Z"
   },
   {
    "duration": 16,
    "start_time": "2024-11-02T16:50:59.936Z"
   },
   {
    "duration": 10,
    "start_time": "2024-11-02T16:50:59.954Z"
   },
   {
    "duration": 7,
    "start_time": "2024-11-02T16:50:59.967Z"
   },
   {
    "duration": 142,
    "start_time": "2024-11-02T16:50:59.976Z"
   },
   {
    "duration": 490,
    "start_time": "2024-11-02T16:51:00.122Z"
   },
   {
    "duration": 2017,
    "start_time": "2024-11-02T16:51:00.614Z"
   },
   {
    "duration": 298,
    "start_time": "2024-11-02T16:51:02.634Z"
   },
   {
    "duration": 527,
    "start_time": "2024-11-02T16:51:02.934Z"
   },
   {
    "duration": 966,
    "start_time": "2024-11-02T16:51:03.463Z"
   },
   {
    "duration": 318,
    "start_time": "2024-11-02T16:51:04.431Z"
   },
   {
    "duration": 6080,
    "start_time": "2024-11-02T16:56:50.502Z"
   }
  ],
  "kernelspec": {
   "display_name": "Python 3 (ipykernel)",
   "language": "python",
   "name": "python3"
  },
  "language_info": {
   "codemirror_mode": {
    "name": "ipython",
    "version": 3
   },
   "file_extension": ".py",
   "mimetype": "text/x-python",
   "name": "python",
   "nbconvert_exporter": "python",
   "pygments_lexer": "ipython3",
   "version": "3.9.19"
  },
  "toc": {
   "base_numbering": 1,
   "nav_menu": {},
   "number_sections": true,
   "sideBar": true,
   "skip_h1_title": true,
   "title_cell": "Table of Contents",
   "title_sidebar": "Contents",
   "toc_cell": false,
   "toc_position": {},
   "toc_section_display": true,
   "toc_window_display": false
  }
 },
 "nbformat": 4,
 "nbformat_minor": 2
}
